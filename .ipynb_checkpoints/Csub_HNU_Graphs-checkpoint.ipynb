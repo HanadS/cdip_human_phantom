{
 "cells": [
  {
   "cell_type": "code",
   "execution_count": null,
   "metadata": {},
   "outputs": [],
   "source": [
    "import pandas as pd\n",
    "import numpy as np\n",
    "import plotly\n",
    "import plotly.plotly as py\n",
    "from plotly.offline import init_notebook_mode, iplot\n",
    "import plotly.graph_objs as go\n",
    "from plotly import tools\n",
    "import random\n"
   ]
  },
  {
   "cell_type": "code",
   "execution_count": null,
   "metadata": {},
   "outputs": [],
   "source": [
    "\n",
    "csv_path = \"HnuCsub-06222018.csv\"\n",
    "png_path = \"https://raw.githubusercontent.com/HanadS/cdip_human_phantom/master/Csub-intra_png/\""
   ]
  },
  {
   "cell_type": "markdown",
   "metadata": {},
   "source": [
    "# Initiate notebook"
   ]
  },
  {
   "cell_type": "code",
   "execution_count": null,
   "metadata": {},
   "outputs": [],
   "source": [
    "init_notebook_mode()"
   ]
  },
  {
   "cell_type": "markdown",
   "metadata": {},
   "source": [
    "# Read in csv with both Csub and HNU1 data & perform a few checks"
   ]
  },
  {
   "cell_type": "code",
   "execution_count": null,
   "metadata": {},
   "outputs": [],
   "source": [
    "df = pd.read_csv(csv_path)"
   ]
  },
  {
   "cell_type": "code",
   "execution_count": null,
   "metadata": {},
   "outputs": [],
   "source": [
    "df.head()"
   ]
  },
  {
   "cell_type": "markdown",
   "metadata": {},
   "source": [
    "# In this notebook we will graph the following:\n",
    "\n",
    "**1A. Csub intra-site, inter-scan consistency over time (2.5 years)**\n",
    "\n",
    "        - will generate a graph per network (7 networks), and across all networks\n",
    "        - the 8 graphs will be outputted in a 2x4 matrix   \n",
    "        - each graph will contain 6 traces (since longitudinal data was available for 6 sites)\n",
    "\n",
    "**1B. Csub vendor consistency**\n",
    "\n",
    "        - end goal is to generate a 3x6 matrix of graphs\n",
    "    \n",
    "        Inter-site, intra-vendor consistency per network (7 networks), and across all networks\n",
    "        \n",
    "            - each graph will contain 3 traces\n",
    "   \n",
    "        Inter-site inter-vendor consistency per network (7 networks), and across all networks\n",
    "        \n",
    "            - each graph will contain 3 traces\n",
    "        \n",
    "**1C. HNU intra-individual consistency per network, and across all networks**\n",
    "\n",
    "    - end goal is to generate a 2x4 matrix of graphs\n",
    "    \n",
    "    - each graph will contain 26 traces"
   ]
  },
  {
   "cell_type": "markdown",
   "metadata": {},
   "source": [
    "# 1A. Csub intra-site, inter-scan consistency over time (2.5 years)"
   ]
  },
  {
   "cell_type": "markdown",
   "metadata": {},
   "source": [
    "### i. Fetch Csub intra-site, inter-scan consistency data from dataframe (df) to a new dataframe (df_Csub_intra)"
   ]
  },
  {
   "cell_type": "code",
   "execution_count": null,
   "metadata": {},
   "outputs": [],
   "source": [
    "# create a list of sites with longitudinal data\n",
    "list_Csub_intra = ['ChumChum', 'ChusChus', 'CinqCinq', 'IsmdIsmd', 'IugmIugm', 'MniMni']\n",
    "\n",
    "df_Csub_intra = df.loc[df['site_label_concat'].isin(list_Csub_intra)]\n",
    "#df_Csub_intra.shape[0]"
   ]
  },
  {
   "cell_type": "code",
   "execution_count": null,
   "metadata": {},
   "outputs": [],
   "source": [
    "df_Csub_intra.head()"
   ]
  },
  {
   "cell_type": "markdown",
   "metadata": {},
   "source": [
    "### iii. Calculate mean (std) intra-site, inter-scan consistency across all 7 networks\n",
    "\n",
    "**Populate df_Csub_intra_crossnet with the results**\n",
    "\n",
    "**Short descriptions of various functions used**\n",
    "\n",
    "**To perform math** `.groupby` and `.agg` \n",
    "\n",
    "**To bring labels to same level** `' '.join(col).strip()` \n",
    "\n",
    "**To change column name to that in df** `.rename` \n",
    "\n",
    "**To remove empty space in column heading to ease life later on** `.columns.str.replace(' ','_')` \n",
    "\n",
    "** Also added an extra column labeled 'network' containing the string 'average'**\n"
   ]
  },
  {
   "cell_type": "code",
   "execution_count": null,
   "metadata": {},
   "outputs": [],
   "source": [
    "df_Csub_intra_crossnet = df_Csub_intra.groupby([\"pair\", \"days_apart\", \"site_label_concat\"]).agg({\"correlation\": [\"mean\", \"std\"]}).reset_index()"
   ]
  },
  {
   "cell_type": "code",
   "execution_count": null,
   "metadata": {},
   "outputs": [],
   "source": [
    "df_Csub_intra_crossnet.columns = [' '.join(col).strip() for col in df_Csub_intra_crossnet.columns.values]\n",
    "df_Csub_intra_crossnet.head()"
   ]
  },
  {
   "cell_type": "code",
   "execution_count": null,
   "metadata": {},
   "outputs": [],
   "source": [
    "df_Csub_intra_crossnet.rename(columns={'correlation mean':'correlation'}, inplace=True)\n",
    "df_Csub_intra_crossnet.columns=df_Csub_intra_crossnet.columns.str.replace(' ','_')\n",
    "df_Csub_intra_crossnet['network']='AVERAGE'\n",
    "df_Csub_intra_crossnet = df_Csub_intra_crossnet.sort_values(by=['site_label_concat', 'days_apart'])\n",
    "df_Csub_intra_crossnet"
   ]
  },
  {
   "cell_type": "markdown",
   "metadata": {},
   "source": [
    "### iv. Generate traces of intra-site consistencies per network & perform a few checks\n",
    "\n",
    "#### These traces will be used by plotly to generate the various graphs\n",
    "\n",
    "    We have a total of 7 networks, and a calculated network called 'average'\n",
    "\n",
    "    For each network we have a total of 6 traces corresponding to the six sites\n",
    "    \n",
    "#### Since the plan is to have all graphs share the same legend, we will generate the traces with the showlegend option off (`showlegend=False`) in order to avoid repeating legends.\n",
    "\n",
    "#### Thereafter, we perform a `showlegend=True` for just one network (in our case the CER network)"
   ]
  },
  {
   "cell_type": "code",
   "execution_count": null,
   "metadata": {},
   "outputs": [],
   "source": [
    "#Csub intra-site traces\n",
    "\n",
    "list_net = [ 'DMN' , 'VIS' ,'SAL' , 'CER' , 'LIM' , 'FPN' , 'MOT', 'AVERAGE']\n",
    "list_sites = { 'ChumChum', 'ChusChus', 'CinqCinq', 'IsmdIsmd', 'IugmIugm', 'MniMni'}\n",
    "\n",
    "df_plot = {}\n",
    "traces = {}\n",
    "\n",
    "markers = { 'ChumChum': {'symbol': 'circle', 'color':  'rgb(68, 159, 206)', 'name': 'CHUM', 'legendgroup': 'a'},\n",
    "            'ChusChus': {'symbol': 'circle', 'color':  'rgb(4, 104, 95)', 'name': 'CHUS', 'legendgroup': 'b'},\n",
    "            'CinqCinq': {'symbol': 'circle', 'color':  'rgb(150,150,150)', 'name': 'CINQ', 'legendgroup': 'c'},\n",
    "            'IsmdIsmd': {'symbol': 'circle', 'color':  'rgb(247,104,161)', 'name': 'ISMD', 'legendgroup': 'd'},\n",
    "            'IugmIugm': {'symbol': 'circle', 'color':  'rgb(229, 218, 11)', 'name': 'IUGM', 'legendgroup': 'e'},\n",
    "            'MniMni': {'symbol': 'circle', 'color':  'rgb(117, 2, 36)', 'name': 'MNI', 'legendgroup': 'f'}\n",
    "          }\n",
    "\n",
    "\n",
    "for net in list_net:\n",
    "    if net == 'AVERAGE':\n",
    "        df_plot[net] = df_Csub_intra_crossnet.sort_values(by=['site_label_concat', 'days_apart'])\n",
    "    else:\n",
    "        df_plot[net] = (df_Csub_intra[df_Csub_intra.network == net]).sort_values(by=['site_label_concat', 'days_apart'])\n",
    "    \n",
    "    \n",
    "    traces[net] = list()\n",
    "        \n",
    "    for site in list_sites:\n",
    "        l_index = df_plot[net][df_plot[net].site_label_concat==site].index\n",
    "        temp_trace = go.Scatter(x = (df_plot[net].loc[l_index].days_apart.values),\n",
    "                            y = (df_plot[net].loc[l_index].correlation.values),\n",
    "                            mode = 'markers+lines',\n",
    "                            marker = {\"size\": 4, \"symbol\": markers[site]['symbol'], \"color\": markers[site]['color']},\n",
    "                            line = {\"width\": 2},\n",
    "                            text = (df_plot[net].loc[l_index].pair.values),\n",
    "                            name = markers[site]['name'],\n",
    "                            legendgroup = markers[site]['legendgroup'],\n",
    "                            showlegend = False\n",
    "                            ) \n",
    "        traces[net].append(temp_trace)\n",
    "    "
   ]
  },
  {
   "cell_type": "code",
   "execution_count": null,
   "metadata": {},
   "outputs": [],
   "source": [
    "# modify showlegend in traces of one network to avoid repeating legends\n",
    "for nn in range(0, 6):\n",
    "    traces['CER'][nn]['showlegend'] = True"
   ]
  },
  {
   "cell_type": "markdown",
   "metadata": {},
   "source": [
    "### v. Next we add error bars to traces in the network called 'AVERAGE' & perform checks"
   ]
  },
  {
   "cell_type": "code",
   "execution_count": null,
   "metadata": {},
   "outputs": [],
   "source": [
    "# modify traced to add error bar to AVERAGE\n",
    "for nn in range(0, 6):\n",
    "    if traces['AVERAGE'][nn]['name'] == 'CHUM':\n",
    "        traces['AVERAGE'][nn]['error_y'] = dict(type='data', array=[0.063132], visible=True, color='rgb(68, 159, 206)', thickness=0.5)\n",
    "    elif traces['AVERAGE'][nn]['name'] == 'CHUS':\n",
    "        traces['AVERAGE'][nn]['error_y'] = dict(type='data', array=[0.099555, 0.050478, 0.066273], visible=True, color='rgb(4, 104, 95)', thickness=0.5)\n",
    "    elif traces['AVERAGE'][nn]['name'] == 'CINQ':\n",
    "        traces['AVERAGE'][nn]['error_y'] = dict(type='data', array=[0.062406, 0.076738, 0.033471], visible=True, color='rgb(150,150,150)', thickness=0.5)\n",
    "    elif traces['AVERAGE'][nn]['name'] == 'ISMD':\n",
    "        traces['AVERAGE'][nn]['error_y'] = dict(type='data', array=[0.032522, 0.082086, 0.110658], visible=True, color='rgb(247,104,161)', thickness=0.5)\n",
    "    elif traces['AVERAGE'][nn]['name'] == 'IUGM':\n",
    "        traces['AVERAGE'][nn]['error_y'] = dict(type='data', array=[0.031711, 0.088810, 0.060904], visible=True, color='rgb(229, 218, 11)', thickness=0.5)\n",
    "    elif traces['AVERAGE'][nn]['name'] == 'MNI':\n",
    "        traces['AVERAGE'][nn]['error_y'] = dict(type='data', array=[0.024508, 0.034487, 0.035628], visible=True, color='rgb(117, 2, 36)', thickness=0.5)"
   ]
  },
  {
   "cell_type": "markdown",
   "metadata": {},
   "source": [
    "#### Now we modify plotly Layout to our specifications.\n",
    "\n",
    "#### The standard plotly layout does not create subplots\n",
    "\n",
    "#### We however would prefer to have out 8 graphs in a 2x4 matrix. So we will override the standard layout with subplot specific layouts."
   ]
  },
  {
   "cell_type": "markdown",
   "metadata": {},
   "source": [
    "### vi. Activating the multiple subplots option in plotly\n",
    "\n",
    "**Indicating that we want subplot** `tools.make_subplots`\n",
    "\n",
    "**The loop is to (i) indicate to append all 6 traces in each subplot, and (ii) indicate the positioning of the subplot in the 2x4 matrix.**"
   ]
  },
  {
   "cell_type": "code",
   "execution_count": null,
   "metadata": {},
   "outputs": [],
   "source": [
    "fig1 = tools.make_subplots(rows=4, cols=4, shared_yaxes=False, horizontal_spacing = 0.05, vertical_spacing = 0.08, subplot_titles=('CER', 'CER', 'DMN', 'DMN', 'FPN', 'FPN', 'LIM', 'LIM', 'MOT', 'MOT', 'SAL', 'SAL', 'VIS', 'VIS', 'AVERAGE'))\n",
    "\n",
    "nn = 0\n",
    "n_col = 4\n",
    "for net in list_net:\n",
    "    il = int(1+nn*1)\n",
    "    ic = int(np.mod(il-1,n_col)+1)\n",
    "    ir = int((il - ic)/n_col + 1)\n",
    "    for trace in range(6):\n",
    "        fig1.append_trace(traces[net][trace], ir, ic)\n",
    "    nn += 2"
   ]
  },
  {
   "cell_type": "code",
   "execution_count": null,
   "metadata": {},
   "outputs": [],
   "source": [
    "#look at plotting details\n",
    "#fig1.print_grid"
   ]
  },
  {
   "cell_type": "markdown",
   "metadata": {},
   "source": [
    "#### We also want to insert the average connectivity map of a given network to the right of the network specific traces.\n",
    "#### In order to do so in plotly, we had to convert the connectivity map images to base64\n",
    "### vii. Converting average connectivity map image per network to base64"
   ]
  },
  {
   "cell_type": "code",
   "execution_count": null,
   "metadata": {},
   "outputs": [],
   "source": [
    "list_file_in = ['cer', 'cerCer', 'dmn', 'dmnCer', 'fpn', 'fpnCer', 'lim', 'limCer', 'mot', 'motCer', 'sal', 'salCer', 'vis', 'visCer']\n",
    "\n",
    "images = []\n",
    "\n",
    "for file in list_file_in:\n",
    "    \n",
    "    file = png_path+file+'.png'\n",
    "    images.append(file)\n"
   ]
  },
  {
   "cell_type": "markdown",
   "metadata": {},
   "source": [
    "### viii. Overriding standard layout elements for subplot specific layout &  displaying graphs"
   ]
  },
  {
   "cell_type": "code",
   "execution_count": null,
   "metadata": {},
   "outputs": [],
   "source": [
    "#Style x and y axis\n",
    "fig1['layout']['yaxis1'].update(title='Correlation Between <br> Connectivity Maps', titlefont=dict(size=10), range=[0, 1], tickfont=dict(size=10))\n",
    "for nn in range(2, 16):\n",
    "    fig1['layout']['yaxis'+str(nn)].update(range=[0, 1], tickfont=dict(size=10))\n",
    "                    \n",
    "fig1['layout']['xaxis1'].update(title='Days Between Scans', titlefont=dict(size=10), range=[0, 1000], tick0=0, tickfont=dict(size=10), dtick=250, nticks=10)\n",
    "for nn in range(2, 16):\n",
    "    fig1['layout']['xaxis'+str(nn)].update(range=[0, 1000], tick0=0, dtick=250, tickfont=dict(size=10), nticks=5)\n",
    "\n",
    "#Style subplot titles    \n",
    "for i in fig1['layout']['annotations']:\n",
    "    i['font'] = dict(size=10)    \n",
    "\n",
    "\n",
    "#Size of overall figure and subplots\n",
    "fig1['layout'].update(height=1300, width=1050, margin={\"r\": 63, \"t\": 70, \"b\": 48, \"l\": 67, \"pad\": 2},  \n",
    "                     title = 'Intrasite consistency', showlegend=True, \n",
    "                     legend=dict(font=dict(size=10), x=.85, y=0.02, bgcolor='#E2E2E2', bordercolor='#FFFFFF', borderwidth=3),\n",
    "                     images = [{\"source\": images[0], \n",
    "                                \"xref\": \"paper\", \"yref\": \"paper\", \"x\":0.50, \"y\": .9, \"sizex\": .27, \"sizey\": .27, \"visible\": True, \n",
    "                                \"xanchor\": \"right\", \"yanchor\": \"bottom\"},\n",
    "                               {\"source\": images[1],\n",
    "                                \"xref\": \"paper\", \"yref\": \"paper\", \"x\":0.465, \"y\": .81, \"sizex\": .20, \"sizey\": .20, \"visible\": True,\n",
    "                                \"xanchor\": \"right\", \"yanchor\": \"bottom\"},\n",
    "                               {\"source\": images[2], \n",
    "                                \"xref\": \"paper\", \"yref\": \"paper\", \"x\":1.03, \"y\": .9, \"sizex\": .27, \"sizey\": .27, \"visible\": True, \n",
    "                                \"xanchor\": \"right\", \"yanchor\": \"bottom\"},\n",
    "                               {\"source\": images[3], \n",
    "                                \"xref\": \"paper\", \"yref\": \"paper\", \"x\":.99, \"y\": .81, \"sizex\": .20, \"sizey\": .20, \"visible\": True, \n",
    "                                \"xanchor\": \"right\", \"yanchor\": \"bottom\"},\n",
    "                               {\"source\": images[4], \n",
    "                                \"xref\": \"paper\", \"yref\": \"paper\", \"x\":0.50, \"y\": .63, \"sizex\": .27, \"sizey\": .27, \"visible\": True, \n",
    "                                \"xanchor\": \"right\", \"yanchor\": \"bottom\"},\n",
    "                               {\"source\": images[5], \n",
    "                                \"xref\": \"paper\", \"yref\": \"paper\", \"x\":0.465, \"y\": .54, \"sizex\": .20, \"sizey\": .20, \"visible\": True, \n",
    "                                \"xanchor\": \"right\", \"yanchor\": \"bottom\"},\n",
    "                               {\"source\": images[6], \n",
    "                                \"xref\": \"paper\", \"yref\": \"paper\", \"x\":1.03, \"y\": .63, \"sizex\": .27, \"sizey\": .27, \"visible\": True, \n",
    "                                \"xanchor\": \"right\", \"yanchor\": \"bottom\"},\n",
    "                               {\"source\": images[7], \n",
    "                                \"xref\": \"paper\", \"yref\": \"paper\", \"x\":.99, \"y\": .54, \"sizex\": .20, \"sizey\": .20, \"visible\": True, \n",
    "                                \"xanchor\": \"right\", \"yanchor\": \"bottom\"},\n",
    "                               {\"source\": images[8], \n",
    "                                \"xref\": \"paper\", \"yref\": \"paper\", \"x\":0.50, \"y\": .36, \"sizex\": .27, \"sizey\": .27, \"visible\": True, \n",
    "                                \"xanchor\": \"right\", \"yanchor\": \"bottom\"},\n",
    "                               {\"source\": images[9], \n",
    "                                \"xref\": \"paper\", \"yref\": \"paper\", \"x\":0.465, \"y\": .27, \"sizex\": .20, \"sizey\": .20, \"visible\": True, \n",
    "                                \"xanchor\": \"right\", \"yanchor\": \"bottom\"},\n",
    "                               {\"source\": images[10], \n",
    "                                \"xref\": \"paper\", \"yref\": \"paper\", \"x\":1.03, \"y\": .36, \"sizex\": .27, \"sizey\": .27, \"visible\": True, \n",
    "                                \"xanchor\": \"right\", \"yanchor\": \"bottom\"},\n",
    "                               {\"source\": images[11], \n",
    "                                \"xref\": \"paper\", \"yref\": \"paper\", \"x\":.99, \"y\": .27, \"sizex\": .20, \"sizey\": .20, \"visible\": True, \n",
    "                                \"xanchor\": \"right\", \"yanchor\": \"bottom\"},\n",
    "                               {\"source\": images[12], \n",
    "                                \"xref\": \"paper\", \"yref\": \"paper\", \"x\":0.50, \"y\": .09, \"sizex\": .27, \"sizey\": .27, \"visible\": True, \n",
    "                                \"xanchor\": \"right\", \"yanchor\": \"bottom\"},\n",
    "                               {\"source\": images[13], \n",
    "                                \"xref\": \"paper\", \"yref\": \"paper\", \"x\":0.465, \"y\": .0, \"sizex\": .20, \"sizey\": .20, \"visible\": True, \n",
    "                                \"xanchor\": \"right\", \"yanchor\": \"bottom\"}])\n",
    "\n",
    "    \n",
    "iplot(fig1, filename='Intrasite_consistency')"
   ]
  },
  {
   "cell_type": "markdown",
   "metadata": {
    "collapsed": true
   },
   "source": [
    "# 1B. Csub vendor consistency"
   ]
  },
  {
   "cell_type": "markdown",
   "metadata": {},
   "source": [
    "### i. Fetch Csub inter-site consistency data from dataframe (df) to a new dataframe (df_Csub_inter)"
   ]
  },
  {
   "cell_type": "code",
   "execution_count": null,
   "metadata": {},
   "outputs": [],
   "source": [
    "# creating a new dataframe with Csub inter-site combinations\n",
    "list_not_Csub_inter = ['ChumChum', 'ChusChus', 'CinqCinq', 'IsmdIsmd', 'IugmIugm', 'MniMni', 'HnuHnu', 'HnuChum',\n",
    "                        'HnuChus', 'HnuCinq', 'HnuUbc', 'HnuIsmd','HnuIugm', 'HnuMni', 'HnuEdm', 'HnuRri', 'HnuSask',\n",
    "                        'HnuSun', 'HnuTwh', 'HnuVic']\n",
    "\n",
    "df_Csub_inter = df[(df['site_label_concat'].isin(list_not_Csub_inter) == False)]"
   ]
  },
  {
   "cell_type": "code",
   "execution_count": null,
   "metadata": {},
   "outputs": [],
   "source": [
    "df_Csub_inter.head()"
   ]
  },
  {
   "cell_type": "markdown",
   "metadata": {},
   "source": [
    "### iii. Calculate mean (std) consistency per vendor"
   ]
  },
  {
   "cell_type": "code",
   "execution_count": null,
   "metadata": {},
   "outputs": [],
   "source": [
    "df_Csub_inter_crossnet = df_Csub_inter.groupby([\"scanner_Label\", \"days_apart\", \"pair\"]).agg({\"correlation\": [\"mean\", \"std\"]}).reset_index()\n",
    "df_Csub_inter_crossnet.head()"
   ]
  },
  {
   "cell_type": "code",
   "execution_count": null,
   "metadata": {},
   "outputs": [],
   "source": [
    "df_Csub_inter_crossnet.columns = [' '.join(col).strip() for col in df_Csub_inter_crossnet.columns.values]\n",
    "df_Csub_inter_crossnet.head()"
   ]
  },
  {
   "cell_type": "code",
   "execution_count": null,
   "metadata": {},
   "outputs": [],
   "source": [
    "df_Csub_inter_crossnet.rename(columns={'correlation mean':'correlation'}, inplace=True)\n",
    "df_Csub_inter_crossnet.columns=df_Csub_inter_crossnet.columns.str.replace(' ','_')\n",
    "df_Csub_inter_crossnet['network']='AVERAGE'\n",
    "df_Csub_inter_crossnet = df_Csub_inter_crossnet.sort_values(by=['scanner_Label', 'days_apart'])\n",
    "df_Csub_inter_crossnet.head()"
   ]
  },
  {
   "cell_type": "markdown",
   "metadata": {},
   "source": [
    "### iv. Generate intra- and inter- vendor consistency traces per network & perform a few checks\n",
    "\n",
    "#### These traces will be used by plotly to generate the various graphs\n",
    "\n",
    "    We have a total of 7 networks, and a calculated network called 'AVERAGE'\n",
    "\n",
    "    We have 3 traces per graph\n",
    "    \n",
    "#### Since the plan is to have all graphs share the same legend, we will generate the traces with the showlegend option off (`showlegend=False`) in order to avoid repeating legends.\n",
    "\n",
    "#### Thereafter, we perform a `showlegend=True` for just one network (in our case the CER network)"
   ]
  },
  {
   "cell_type": "code",
   "execution_count": null,
   "metadata": {},
   "outputs": [],
   "source": [
    "list_sess = { 'PhilipsPhilips', 'SiemensSiemens', 'GEGE', 'PhilipsSiemens', 'PhilipsGE',  'SiemensGE'}\n",
    "\n",
    "df_plot2 = {}\n",
    "\n",
    "\n",
    "traces2 = {}\n",
    "markers2 = { 'PhilipsPhilips': {  'symbol': 'circle', 'color':  'rgb(213,62,79)', 'legendgroup': 'a'},\n",
    "             'SiemensSiemens': {  'symbol': 'circle', 'color':  'rgb(31,120,180)', 'legendgroup': 'b'},\n",
    "             'GEGE': {  'symbol': 'circle', 'color':  'rgb(0, 0, 0)', 'legendgroup': 'c'},\n",
    "             'PhilipsSiemens': {  'symbol': 'circle', 'color':  'rgb(145, 30, 180)', 'legendgroup': 'd'},\n",
    "             'PhilipsGE': {  'symbol': 'circle', 'color':  'rgb(60, 180, 75)', 'legendgroup': 'e'},\n",
    "             'SiemensGE': {  'symbol': 'circle', 'color':  'rgb(255,127,0)', 'legendgroup': 'f'}}\n",
    "\n",
    "\n",
    "for net in list_net:\n",
    "    if net == 'AVERAGE':\n",
    "        df_plot2[net] = df_Csub_inter_crossnet.sort_values(by=['scanner_Label', 'days_apart'])\n",
    "    else:\n",
    "        df_plot2[net] = (df_Csub_inter[df_Csub_inter.network == net]).sort_values(by=['scanner_Label', 'days_apart'])\n",
    "        \n",
    "    \n",
    "    traces2[net] = list()\n",
    "    \n",
    "    for sess in list_sess:\n",
    "        l_index = df_plot2[net][df_plot2[net].scanner_Label==sess].index\n",
    "        temp_trace = go.Scatter(x = (df_plot2[net].loc[l_index].days_apart.values),\n",
    "                            y = (df_plot2[net].loc[l_index].correlation.values),\n",
    "                            mode = 'markers',\n",
    "                            #type = 'scatter',\n",
    "                            marker = {\"size\": 4, \"symbol\": markers2[sess]['symbol'], \"color\": markers2[sess]['color']},\n",
    "                            text = (df_plot2[net].loc[l_index].pair.values),\n",
    "                            name = str(sess),\n",
    "                            legendgroup = markers2[sess]['legendgroup'],\n",
    "                            showlegend = False\n",
    "                            ) \n",
    "        traces2[net].append(temp_trace)"
   ]
  },
  {
   "cell_type": "code",
   "execution_count": null,
   "metadata": {},
   "outputs": [],
   "source": [
    "#MODIFY SHOWLEGEND IN TRACES OF ONE NETWORK TO AVOID REPEATING LEGENDS\n",
    "for nn in range(0, 6):\n",
    "    traces2['CER'][nn]['showlegend'] = True"
   ]
  },
  {
   "cell_type": "markdown",
   "metadata": {},
   "source": [
    "### vi. Activating the multiple subplots option in plotly\n",
    "\n",
    "**Indicating that we want subplot** `tools.make_subplots`\n",
    "\n",
    "**The loop is to (i) indicate to append 3 traces to intra manufacturer consistency and 3 traces to inter manufacturer consistency, and (ii) indicate the positioning of the subplot in the 3x6 matrix.**"
   ]
  },
  {
   "cell_type": "code",
   "execution_count": null,
   "metadata": {},
   "outputs": [],
   "source": [
    "fig2 = tools.make_subplots(rows=3, cols=6, shared_yaxes=False, horizontal_spacing = 0.04, vertical_spacing = 0.12,\n",
    "                          subplot_titles=('Intra-vendor <br> CER', 'Inter-vendor <br> CER', \n",
    "                                          'Intra-vendor <br> DMN', 'Intra-vendor <br> DMN', \n",
    "                                          'Intra-vendor <br> FPN', 'Intra-vendor <br> FPN', \n",
    "                                          'Intra-vendor <br> LIM', 'Intra-vendor <br> LIM', \n",
    "                                          'Intra-vendor <br> MOT', 'Intra-vendor <br> MOT', \n",
    "                                          'Intra-vendor <br> SAL', 'Intra-vendor <br> SAL',\n",
    "                                          'Intra-vendor <br> VIS', 'Intra-vendor <br> VIS',\n",
    "                                          'Intra-vendor <br> AVERAGE', 'Intra-vendor <br> AVERAGE',\n",
    "                                         ))\n",
    "nn = 0\n",
    "n_col = 6\n",
    "n_row = int(np.ceil(float(len(list_net)*2) / float(n_col)))\n",
    "for net in list_net:\n",
    "    il = int(1+nn*2)\n",
    "    ic = int(np.mod(il-1,n_col)+1)\n",
    "    ir = int((il - ic)/n_col + 1) \n",
    "    fig2.append_trace(traces2[net][1], ir, ic)\n",
    "    fig2.append_trace(traces2[net][2], ir, ic)\n",
    "    fig2.append_trace(traces2[net][5], ir, ic)\n",
    "    il = int(2+nn*2)\n",
    "    ic = int(np.mod(il-1,n_col)+1)\n",
    "    ir = int((il - ic)/n_col + 1)\n",
    "    fig2.append_trace(traces2[net][0], ir, ic)\n",
    "    fig2.append_trace(traces2[net][3], ir, ic)\n",
    "    fig2.append_trace(traces2[net][4], ir, ic)\n",
    "    nn += 1\n"
   ]
  },
  {
   "cell_type": "markdown",
   "metadata": {},
   "source": [
    "### vii. Overriding standard layout elements for subplot specific layout &  displaying graphs"
   ]
  },
  {
   "cell_type": "code",
   "execution_count": null,
   "metadata": {},
   "outputs": [],
   "source": [
    "fig2['layout']['yaxis1'].update(title='Correlation Between <br> Connectivity Maps', titlefont=dict(size=10), range=[0, 1], tickfont=dict(size=10))\n",
    "\n",
    "for nn in range(1, 17):\n",
    "    fig2['layout']['yaxis'+str(nn)].update(range=[0, 1], tickfont=dict(size=10))\n",
    "\n",
    "\n",
    "    \n",
    "fig2['layout']['xaxis1'].update(title='Days Between Scans', titlefont=dict(size=10), range=[0, 1300], tick0=0, tickfont=dict(size=10), dtick=600, nticks=10)\n",
    "\n",
    "for nn in range(1, 17):\n",
    "    fig2['layout']['xaxis'+str(nn)].update(range=[0, 1300], tick0=0, tickfont=dict(size=10), dtick=600, nticks=10)\n",
    "\n",
    "\n",
    "\n",
    "fig2['layout'].update(height=800, width=1000,\n",
    "                      margin=dict(r=63, t=110, b=48, l=67, pad=2),\n",
    "                      title = 'Intra- and inter-vendor consistency', showlegend=True,\n",
    "                      legend=dict(font=dict(size=10), x=.75, y=-0.03, bgcolor='#E2E2E2', bordercolor='#FFFFFF', borderwidth=2))\n",
    "\n",
    "for i in fig2['layout']['annotations']:\n",
    "    i['font'] = dict(size=10)\n",
    "\n",
    "iplot(fig2, filename='Vendor_Consistency')"
   ]
  },
  {
   "cell_type": "markdown",
   "metadata": {},
   "source": [
    "# 1C. HNU intra-individual consistency"
   ]
  },
  {
   "cell_type": "markdown",
   "metadata": {},
   "source": [
    "### i. Fetch HNU consistency data from dataframe (df) to a new dataframe (df_Hnu)"
   ]
  },
  {
   "cell_type": "code",
   "execution_count": null,
   "metadata": {},
   "outputs": [],
   "source": [
    "df_Hnu = df[(df['site_label_concat'] =='HnuHnu')]\n",
    "df_Hnu.head()"
   ]
  },
  {
   "cell_type": "markdown",
   "metadata": {},
   "source": [
    "### Calculate mean (std) consistency per subject"
   ]
  },
  {
   "cell_type": "markdown",
   "metadata": {},
   "source": [
    "### iii. Generate intrasubject consistency traces per network & perform a few checks\n",
    "\n",
    "#### These traces will be used by plotly to generate the various graphs\n",
    "\n",
    "    We have a total of 7 networks, and a calculated network called 'AVERAGE'\n",
    "\n",
    "    We have 26 traces per graph\n",
    "    \n",
    "#### Since the plan is to have all graphs share the same legend, we will generate the traces with the showlegend option off (`showlegend=False`) in order to avoid repeating legends.\n",
    "\n",
    "#### Thereafter, we perform a `showlegend=True` for just one network (in our case the CER network)"
   ]
  },
  {
   "cell_type": "code",
   "execution_count": null,
   "metadata": {},
   "outputs": [],
   "source": [
    "df_Hnu_crossnet = df_Hnu.groupby([\"pair\", \"subject1\", \"exact_site_label1\", \"subject2\", \"days_apart\"]).agg({\"correlation\": [\"mean\", \"std\"]}).reset_index()\n",
    "df_Hnu_crossnet.columns = [' '.join(col).strip() for col in df_Hnu_crossnet.columns.values]\n",
    "df_Hnu_crossnet.rename(columns={'correlation mean':'correlation'}, inplace=True)\n",
    "df_Hnu_crossnet.columns=df_Hnu_crossnet.columns.str.replace(' ','_')\n",
    "df_Hnu_crossnet['network']='AVERAGE'\n",
    "df_Hnu_crossnet.head()"
   ]
  },
  {
   "cell_type": "code",
   "execution_count": null,
   "metadata": {},
   "outputs": [],
   "source": [
    "list_sub_Hnu = set(df[\"subject1\"])\n",
    "list_sub_Hnu.remove(\"Csub\")\n",
    "\n",
    "list_sub_Hnu = list(list_sub_Hnu)\n",
    "\n",
    "df_plot3_temp ={}\n",
    "df_plot3 = {}\n",
    "traces3 = {}\n",
    "markers3 = {}\n",
    "i = 97\n",
    "\n",
    "#color = list(np.random.choice(range(256), size=3))\n",
    "for subject in list_sub_Hnu:\n",
    "     color = list(np.random.choice(range(256), size=3))\n",
    "     markers3.update({subject :{'symbol':'circle', 'color':  'rgb('+str(color[0])+','+str(color[1])+','+str(color[2])+')', 'legendgroup': chr(i)}})\n",
    "     i+=1\n",
    "        \n",
    "        \n",
    "for net in list_net:\n",
    "    if net == 'AVERAGE':\n",
    "        df_plot3[net] = df_Hnu_crossnet[(df_Hnu_crossnet['subject1'] == df_Hnu_crossnet['subject2']) & (df_Hnu_crossnet['exact_site_label1'] == 'Hnu0') ]\n",
    "    \n",
    "    else:\n",
    "        df_plot3_temp[net] = df_Hnu[df_Hnu.network == net].sort_values(by=['id1', 'id2', 'days_apart'])\n",
    "        df_plot3[net] = df_plot3_temp[net][(df_plot3_temp[net]['subject1'] == df_plot3_temp[net]['subject2']) & (df_plot3_temp[net]['exact_site_label1'] == 'Hnu0') ]\n",
    "             \n",
    "    traces3[net] = list()\n",
    "    \n",
    "    for sub in list_sub_Hnu:\n",
    "        l_index = df_plot3[net][df_plot3[net].subject1==sub].index\n",
    "        temp_trace = go.Scatter(x = (df_plot3[net].loc[l_index].days_apart.values),\n",
    "                            y = (df_plot3[net].loc[l_index].correlation.values),\n",
    "                            mode = 'markers+lines',\n",
    "                            marker = {\"size\": 3, \"symbol\": markers3[sub]['symbol'], \"color\": markers3[sub]['color']},\n",
    "                            line = {\"width\": .5},\n",
    "                            text = (df_plot3[net].loc[l_index].pair.values),\n",
    "                            name = str(sub),\n",
    "                            legendgroup = markers3[sub]['legendgroup'],\n",
    "                            showlegend = False\n",
    "                            )\n",
    "        traces3[net].append(temp_trace)\n",
    "\n"
   ]
  },
  {
   "cell_type": "code",
   "execution_count": null,
   "metadata": {},
   "outputs": [],
   "source": [
    "#MODIFY SHOWLEGEND IN TRACES OF ONE NETWORK TO AVOID REPEATING LEGENDS\n",
    "for nn in range(26):\n",
    "    traces3['CER'][nn]['showlegend'] = True"
   ]
  },
  {
   "cell_type": "markdown",
   "metadata": {},
   "source": [
    "### vi. Activating the multiple subplots option in plotly\n",
    "\n",
    "**Indicating that we want subplot** `tools.make_subplots`\n",
    "\n",
    "**The loop is to (i) indicate to append 26 traces per network, and (ii) indicate the positioning of the subplot in the 3x6 matrix.**"
   ]
  },
  {
   "cell_type": "code",
   "execution_count": null,
   "metadata": {},
   "outputs": [],
   "source": [
    "fig3 = tools.make_subplots(rows=2, cols=4, shared_yaxes=False, horizontal_spacing = 0.04, vertical_spacing = 0.18, subplot_titles=('CER', 'DMN', 'FPN', 'LIM', 'MOT', 'SAL', 'VIS', 'AVERAGE'))\n",
    "\n",
    "nn = 0\n",
    "n_col = 4\n",
    "for net in list_net:\n",
    "    il = int(1+nn*1)\n",
    "    ic = int(np.mod(il-1,n_col)+1)\n",
    "    ir = int((il - ic)/n_col + 1) \n",
    "    for trace in range(26):\n",
    "        fig3.append_trace(traces3[net][trace], ir, ic)\n",
    "    nn += 1"
   ]
  },
  {
   "cell_type": "markdown",
   "metadata": {},
   "source": [
    "### vii. Overriding standard layout elements for subplot specific layout &  displaying graphs"
   ]
  },
  {
   "cell_type": "code",
   "execution_count": null,
   "metadata": {},
   "outputs": [],
   "source": [
    "#StylE x and y axis\n",
    "fig3['layout']['yaxis1'].update(title='Correlation Between <br> Connectivity Maps', titlefont=dict(size=10), range=[0, 1], tickfont=dict(size=10))\n",
    "for nn in range(2, 9):\n",
    "    fig3['layout']['yaxis'+str(nn)].update(range=[0, 1], tickfont=dict(size=10))\n",
    "                    \n",
    "fig3['layout']['xaxis1'].update(title='Days Between Scans', titlefont=dict(size=10), range=[0, 30], tick0=0, tickfont=dict(size=10), dtick=10, nticks=10)\n",
    "for nn in range(2, 9):\n",
    "    fig3['layout']['xaxis'+str(nn)].update(range=[0, 30], tick0=0, dtick=10, tickfont=dict(size=10), nticks=5)\n",
    "\n",
    "#Style subplot titles    \n",
    "for i in fig3['layout']['annotations']:\n",
    "    i['font'] = dict(size=10)    \n",
    "\n",
    "#Size of overall figure and subplots\n",
    "fig3['layout'].update(height=1000, width=1000, margin={\"r\": 63, \"t\": 90, \"b\": 48, \"l\": 67, \"pad\": 2}, \n",
    "                     title = 'HNU intra-subject consistency', showlegend=True)\n",
    "    \n",
    " \n",
    "iplot(fig3, filename='HNU_Intrasubject')"
   ]
  }
 ],
 "metadata": {
  "anaconda-cloud": {},
  "kernelspec": {
   "display_name": "Python 3",
   "language": "python",
   "name": "python3"
  },
  "language_info": {
   "codemirror_mode": {
    "name": "ipython",
    "version": 3
   },
   "file_extension": ".py",
   "mimetype": "text/x-python",
   "name": "python",
   "nbconvert_exporter": "python",
   "pygments_lexer": "ipython3",
   "version": "3.5.5"
  }
 },
 "nbformat": 4,
 "nbformat_minor": 2
}
